{
 "cells": [
  {
   "cell_type": "code",
   "execution_count": 5,
   "id": "77486a8b",
   "metadata": {},
   "outputs": [],
   "source": [
    "import json\n",
    "import pandas as pd"
   ]
  },
  {
   "cell_type": "code",
   "execution_count": 41,
   "id": "a1fda44a",
   "metadata": {},
   "outputs": [],
   "source": [
    "def get_stats(df):\n",
    "    total = len(df)\n",
    "    grouped = df[['jam_url', 'game_name']].groupby(\n",
    "        'jam_url'\n",
    "        ).count().reset_index().sort_values('game_name', ascending=False)\n",
    "    njams = len(grouped)\n",
    "    print('%d total games (%d jams)' % (total, njams))\n",
    "    print(grouped)"
   ]
  },
  {
   "cell_type": "code",
   "execution_count": 19,
   "id": "25d179f3",
   "metadata": {},
   "outputs": [],
   "source": [
    "fname = \"game_data.json\"\n",
    "with open(fname,'r') as f:\n",
    "    games_data = json.load(f)\n",
    "df = pd.DataFrame(games_data)\n",
    "df['game_rank'] = df['game_rank'].str[0:-2].astype(int)\n",
    "df['game_score'] = df['game_rank']/df['submissions'].astype(float)"
   ]
  },
  {
   "cell_type": "code",
   "execution_count": 43,
   "id": "c2e235ce",
   "metadata": {
    "scrolled": true
   },
   "outputs": [
    {
     "name": "stdout",
     "output_type": "stream",
     "text": [
      "3063 total games (951 jams)\n",
      "                                           jam_url  game_name\n",
      "66   https://itch.io/jam/blackthornprod-game-jam-3         20\n",
      "185              https://itch.io/jam/game-off-2020         20\n",
      "78                  https://itch.io/jam/brackeys-3         19\n",
      "273              https://itch.io/jam/gmtk-jam-2022         19\n",
      "233                    https://itch.io/jam/gbjam-5         19\n",
      "..                                             ...        ...\n",
      "424          https://itch.io/jam/low-effort-jam-16          1\n",
      "420          https://itch.io/jam/low-effort-jam-11          1\n",
      "417            https://itch.io/jam/love2d-jam-2021          1\n",
      "416            https://itch.io/jam/love2d-jam-2020          1\n",
      "950      https://itch.io/jam/zx-spectrum-basic-jam          1\n",
      "\n",
      "[951 rows x 2 columns]\n"
     ]
    }
   ],
   "source": [
    "percentile_cutoff = 0.05\n",
    "max_games_per_jam = 20\n",
    "\n",
    "best_games = df.loc[(df['game_score']<=percentile_cutoff) & (df['game_rank']<max_games_per_jam)]\n",
    "get_stats(best_games)"
   ]
  },
  {
   "cell_type": "code",
   "execution_count": 45,
   "id": "a5089f63",
   "metadata": {},
   "outputs": [],
   "source": [
    "best_games.to_json('best_games.json')\n",
    "best_games.to_csv('best_games.csv')"
   ]
  },
  {
   "cell_type": "code",
   "execution_count": null,
   "id": "e89722a7",
   "metadata": {},
   "outputs": [],
   "source": []
  }
 ],
 "metadata": {
  "kernelspec": {
   "display_name": "Python 3 (ipykernel)",
   "language": "python",
   "name": "python3"
  },
  "language_info": {
   "codemirror_mode": {
    "name": "ipython",
    "version": 3
   },
   "file_extension": ".py",
   "mimetype": "text/x-python",
   "name": "python",
   "nbconvert_exporter": "python",
   "pygments_lexer": "ipython3",
   "version": "3.10.8"
  }
 },
 "nbformat": 4,
 "nbformat_minor": 5
}
